{
 "cells": [
  {
   "cell_type": "code",
   "execution_count": 1,
   "metadata": {},
   "outputs": [],
   "source": [
    "import yfinance as yf\n",
    "import pandas as pd\n",
    "import numpy as np\n",
    "import matplotlib.pyplot as plt\n",
    "import seaborn as sns\n",
    "from sklearn.model_selection import train_test_split\n",
    "from sklearn.linear_model import LinearRegression\n",
    "from sklearn.tree import DecisionTreeRegressor\n",
    "from sklearn.metrics import mean_squared_error, confusion_matrix\n",
    "from statsmodels.tsa.arima.model import ARIMA\n",
    "from sklearn.cluster import KMeans\n",
    "from tensorflow import keras\n",
    "from tensorflow.keras.models import Sequential\n",
    "from tensorflow.keras.layers import Dense, LSTM\n"
   ]
  },
  {
   "cell_type": "code",
   "execution_count": 2,
   "metadata": {},
   "outputs": [],
   "source": [
    "# List of Indian company stock symbols\n",
    "companies = ['RELIANCE.NS', 'TCS.NS', 'HDFCBANK.NS', 'VOLTAS.NS', 'PIDILITIND.NS', 'MPHASIS.NS', 'DIXON.NS', 'IEX.NS', 'BALAMINES.NS', 'LTTS.NS']\n",
    "\n"
   ]
  },
  {
   "cell_type": "code",
   "execution_count": 3,
   "metadata": {},
   "outputs": [
    {
     "name": "stdout",
     "output_type": "stream",
     "text": [
      "YF.download() has changed argument auto_adjust default to True\n",
      "            RELIANCE.NS       TCS.NS  HDFCBANK.NS   VOLTAS.NS PIDILITIND.NS  \\\n",
      "Ticker      RELIANCE.NS       TCS.NS  HDFCBANK.NS   VOLTAS.NS PIDILITIND.NS   \n",
      "Date                                                                          \n",
      "2023-01-02  1172.422974  3152.531738  1588.541626  795.509033   2506.679199   \n",
      "2023-01-03  1163.843262  3200.765625  1598.929199  801.108704   2513.614746   \n",
      "2023-01-04  1146.320068  3203.955322  1570.351562  798.680542   2487.804932   \n",
      "2023-01-05  1144.271851  3200.524170  1560.256836  802.248535   2494.889160   \n",
      "2023-01-06  1154.672119  3104.298828  1555.087524  807.303162   2499.050293   \n",
      "\n",
      "             MPHASIS.NS     DIXON.NS      IEX.NS BALAMINES.NS      LTTS.NS  \n",
      "Ticker       MPHASIS.NS     DIXON.NS      IEX.NS BALAMINES.NS      LTTS.NS  \n",
      "Date                                                                        \n",
      "2023-01-02  1877.429321  3893.496826  136.444992  2622.940674  3643.879395  \n",
      "2023-01-03  1910.699463  3918.322754  136.828674  2612.731445  3627.977051  \n",
      "2023-01-04  1912.653687  3860.279541  134.766418  2591.371582  3637.420410  \n",
      "2023-01-05  1919.374390  3834.854248  134.718445  2533.735107  3563.682129  \n",
      "2023-01-06  1885.341553  3813.724854  133.471481  2528.085449  3547.094238  \n"
     ]
    }
   ],
   "source": [
    "def fetch_data(tickers, start='2023-01-01', end='2025-03-01'):\n",
    "    data = {}\n",
    "    for ticker in tickers:\n",
    "        stock = yf.download(ticker, start=start, end=end, progress=False)\n",
    "        if not stock.empty:\n",
    "            data[ticker] = stock['Close']\n",
    "        else:\n",
    "            print(f\"Warning: No data for {ticker}\")\n",
    "    \n",
    "    if not data:  # Check if data dictionary is empty\n",
    "        raise ValueError(\"No valid stock data retrieved. Check ticker symbols or API limits.\")\n",
    "    \n",
    "    return pd.concat(data.values(), axis=1, keys=data.keys())\n",
    "\n",
    "# Fetch historical stock data\n",
    "data = fetch_data(companies)\n",
    "data.dropna(inplace=True)  # Remove missing values\n",
    "print(data.head())  # Debugging output\n"
   ]
  },
  {
   "cell_type": "code",
   "execution_count": 4,
   "metadata": {},
   "outputs": [],
   "source": [
    "\n",
    "# Feature Engineering: Create moving averages for all companies\n",
    "for company in companies:\n",
    "    data[f'{company}_50MA'] = data[company].rolling(window=50).mean()\n",
    "    data[f'{company}_200MA'] = data[company].rolling(window=200).mean()\n",
    "\n"
   ]
  },
  {
   "cell_type": "code",
   "execution_count": 5,
   "metadata": {},
   "outputs": [
    {
     "name": "stdout",
     "output_type": "stream",
     "text": [
      "[('RELIANCE.NS', 'RELIANCE.NS'), ('TCS.NS', 'TCS.NS'), ('HDFCBANK.NS', 'HDFCBANK.NS'), ('VOLTAS.NS', 'VOLTAS.NS'), ('PIDILITIND.NS', 'PIDILITIND.NS'), ('MPHASIS.NS', 'MPHASIS.NS'), ('DIXON.NS', 'DIXON.NS'), ('IEX.NS', 'IEX.NS'), ('BALAMINES.NS', 'BALAMINES.NS'), ('LTTS.NS', 'LTTS.NS'), ('RELIANCE.NS_50MA', ''), ('RELIANCE.NS_200MA', ''), ('TCS.NS_50MA', ''), ('TCS.NS_200MA', ''), ('HDFCBANK.NS_50MA', ''), ('HDFCBANK.NS_200MA', ''), ('VOLTAS.NS_50MA', ''), ('VOLTAS.NS_200MA', ''), ('PIDILITIND.NS_50MA', ''), ('PIDILITIND.NS_200MA', ''), ('MPHASIS.NS_50MA', ''), ('MPHASIS.NS_200MA', ''), ('DIXON.NS_50MA', ''), ('DIXON.NS_200MA', ''), ('IEX.NS_50MA', ''), ('IEX.NS_200MA', ''), ('BALAMINES.NS_50MA', ''), ('BALAMINES.NS_200MA', ''), ('LTTS.NS_50MA', ''), ('LTTS.NS_200MA', '')]\n"
     ]
    }
   ],
   "source": [
    "print(data.columns.tolist())  # Check all column names\n"
   ]
  },
  {
   "cell_type": "code",
   "execution_count": 6,
   "metadata": {},
   "outputs": [
    {
     "name": "stdout",
     "output_type": "stream",
     "text": [
      "Index(['RELIANCE.NS_RELIANCE.NS', 'TCS.NS_TCS.NS', 'HDFCBANK.NS_HDFCBANK.NS',\n",
      "       'VOLTAS.NS_VOLTAS.NS', 'PIDILITIND.NS_PIDILITIND.NS',\n",
      "       'MPHASIS.NS_MPHASIS.NS', 'DIXON.NS_DIXON.NS', 'IEX.NS_IEX.NS',\n",
      "       'BALAMINES.NS_BALAMINES.NS', 'LTTS.NS_LTTS.NS', 'RELIANCE.NS_50MA',\n",
      "       'RELIANCE.NS_200MA', 'TCS.NS_50MA', 'TCS.NS_200MA', 'HDFCBANK.NS_50MA',\n",
      "       'HDFCBANK.NS_200MA', 'VOLTAS.NS_50MA', 'VOLTAS.NS_200MA',\n",
      "       'PIDILITIND.NS_50MA', 'PIDILITIND.NS_200MA', 'MPHASIS.NS_50MA',\n",
      "       'MPHASIS.NS_200MA', 'DIXON.NS_50MA', 'DIXON.NS_200MA', 'IEX.NS_50MA',\n",
      "       'IEX.NS_200MA', 'BALAMINES.NS_50MA', 'BALAMINES.NS_200MA',\n",
      "       'LTTS.NS_50MA', 'LTTS.NS_200MA'],\n",
      "      dtype='object')\n",
      "50MA Column: RELIANCE.NS_50MA\n",
      "200MA Column: RELIANCE.NS_200MA\n",
      "Stock Price Column: RELIANCE.NS_RELIANCE.NS\n"
     ]
    }
   ],
   "source": [
    "# Flatten MultiIndex columns correctly\n",
    "data.columns = ['_'.join(col).strip('_') if isinstance(col, tuple) else col for col in data.columns]\n",
    "\n",
    "# Print columns to verify\n",
    "print(data.columns)\n",
    "\n",
    "# Identify correct column names dynamically\n",
    "reliance_50ma_col = next((col for col in data.columns if 'RELIANCE' in col and '50MA' in col), None)\n",
    "reliance_200ma_col = next((col for col in data.columns if 'RELIANCE' in col and '200MA' in col), None)\n",
    "reliance_price_col = next((col for col in data.columns if 'RELIANCE.NS' in col and 'RELIANCE.NS' in col), None)\n",
    "\n",
    "# Ensure columns are found\n",
    "if not reliance_50ma_col or not reliance_200ma_col or not reliance_price_col:\n",
    "    raise ValueError(f\"Missing columns: 50MA={reliance_50ma_col}, 200MA={reliance_200ma_col}, Price={reliance_price_col}\")\n",
    "\n",
    "# Print selected columns\n",
    "print(\"50MA Column:\", reliance_50ma_col)\n",
    "print(\"200MA Column:\", reliance_200ma_col)\n",
    "print(\"Stock Price Column:\", reliance_price_col)\n",
    "\n",
    "# Prepare data for regression analysis\n",
    "X = data[[reliance_50ma_col, reliance_200ma_col]].dropna()\n",
    "y = data[reliance_price_col][X.index]  # Ensure matching index\n",
    "\n",
    "# Train-test split\n",
    "X_train, X_test, y_train, y_test = train_test_split(X, y, test_size=0.2, random_state=42)\n"
   ]
  },
  {
   "cell_type": "code",
   "execution_count": 7,
   "metadata": {},
   "outputs": [
    {
     "name": "stdout",
     "output_type": "stream",
     "text": [
      "Linear Regression RMSE: 57.97044343123567\n"
     ]
    }
   ],
   "source": [
    "\n",
    "# Linear Regression Model\n",
    "lr = LinearRegression()\n",
    "lr.fit(X_train, y_train)\n",
    "y_pred = lr.predict(X_test)\n",
    "print(\"Linear Regression RMSE:\", np.sqrt(mean_squared_error(y_test, y_pred)))\n"
   ]
  },
  {
   "cell_type": "code",
   "execution_count": null,
   "metadata": {},
   "outputs": [
    {
     "name": "stdout",
     "output_type": "stream",
     "text": [
      "Improved Linear Regression RMSE: 7.042415261730638\n"
     ]
    }
   ],
   "source": [
    "import ta\n",
    "\n",
    "# Adding new features\n",
    "data['RELIANCE_50EMA'] = ta.trend.ema_indicator(data[reliance_price_col], window=50)\n",
    "data['RELIANCE_RSI'] = ta.momentum.rsi(data[reliance_price_col], window=14)\n",
    "data['RELIANCE_MACD'] = ta.trend.macd(data[reliance_price_col])\n",
    "data['RELIANCE_BB_Upper'] = ta.volatility.bollinger_hband(data[reliance_price_col])\n",
    "data['RELIANCE_BB_Lower'] = ta.volatility.bollinger_lband(data[reliance_price_col])\n",
    "\n",
    "# Updating feature set\n",
    "X = data[['RELIANCE.NS_50MA', 'RELIANCE.NS_200MA', 'RELIANCE_50EMA', 'RELIANCE_RSI', 'RELIANCE_MACD', 'RELIANCE_BB_Upper', 'RELIANCE_BB_Lower']].dropna()\n",
    "y = data[reliance_price_col][X.index]\n",
    "\n",
    "# Train-test split\n",
    "X_train, X_test, y_train, y_test = train_test_split(X, y, test_size=0.2, random_state=42)\n",
    "\n",
    "# Train new model\n",
    "lr = LinearRegression()\n",
    "lr.fit(X_train, y_train)\n",
    "y_pred = lr.predict(X_test)\n",
    "\n",
    "# New RMSE\n",
    "rmse = np.sqrt(mean_squared_error(y_test, y_pred))\n",
    "print(\"Improved Linear Regression RMSE:\", rmse)\n"
   ]
  },
  {
   "cell_type": "code",
   "execution_count": 13,
   "metadata": {},
   "outputs": [
    {
     "data": {
      "application/vnd.plotly.v1+json": {
       "config": {
        "plotlyServerURL": "https://plot.ly"
       },
       "data": [
        {
         "line": {
          "color": "blue"
         },
         "mode": "lines",
         "name": "Actual Price",
         "type": "scatter",
         "x": [
          "2024-01-17T00:00:00",
          "2025-02-03T00:00:00",
          "2024-08-07T00:00:00",
          "2024-11-14T00:00:00",
          "2024-12-09T00:00:00",
          "2024-08-26T00:00:00",
          "2025-02-25T00:00:00",
          "2024-04-25T00:00:00",
          "2024-10-23T00:00:00",
          "2024-02-22T00:00:00",
          "2024-10-08T00:00:00",
          "2024-07-10T00:00:00",
          "2024-08-12T00:00:00",
          "2025-01-31T00:00:00",
          "2024-01-11T00:00:00",
          "2024-11-28T00:00:00",
          "2024-12-17T00:00:00",
          "2025-01-13T00:00:00",
          "2024-03-12T00:00:00",
          "2025-02-04T00:00:00",
          "2024-09-16T00:00:00",
          "2024-03-28T00:00:00",
          "2024-10-29T00:00:00",
          "2024-05-06T00:00:00",
          "2024-06-21T00:00:00",
          "2025-02-13T00:00:00",
          "2025-02-12T00:00:00",
          "2024-11-25T00:00:00",
          "2024-06-19T00:00:00",
          "2024-03-06T00:00:00",
          "2024-11-01T00:00:00",
          "2024-05-13T00:00:00",
          "2025-02-05T00:00:00",
          "2024-05-27T00:00:00",
          "2024-03-13T00:00:00",
          "2024-11-04T00:00:00",
          "2024-04-09T00:00:00",
          "2024-04-29T00:00:00",
          "2024-12-27T00:00:00",
          "2024-09-06T00:00:00",
          "2024-10-01T00:00:00",
          "2024-02-19T00:00:00",
          "2024-02-07T00:00:00",
          "2024-02-09T00:00:00",
          "2024-09-23T00:00:00",
          "2024-05-02T00:00:00",
          "2024-08-13T00:00:00",
          "2024-11-29T00:00:00",
          "2025-01-09T00:00:00",
          "2024-05-24T00:00:00",
          "2024-11-07T00:00:00",
          "2024-12-18T00:00:00",
          "2024-09-25T00:00:00",
          "2024-11-13T00:00:00",
          "2024-01-12T00:00:00",
          "2024-06-28T00:00:00",
          "2024-10-18T00:00:00",
          "2024-04-04T00:00:00"
         ],
         "y": [
          1352.3638916015625,
          1245.9000244140625,
          1454.9154052734375,
          1267.5999755859375,
          1295.1500244140625,
          1512.5999755859375,
          1204,
          1450.0982666015625,
          1338.5250244140625,
          1471.7259521484375,
          1397.3499755859375,
          1573.5076904296875,
          1450.743896484375,
          1265.0999755859375,
          1350.7003173828125,
          1270.800048828125,
          1245.300048828125,
          1239.8499755859375,
          1465.4437255859375,
          1285.199951171875,
          1471.3499755859375,
          1475.7982177734375,
          1340,
          1409.921875,
          1444.3623046875,
          1216.0999755859375,
          1216.550048828125,
          1287,
          1448.7822265625,
          1492.8321533203125,
          1338.6500244140625,
          1393.210693359375,
          1278.199951171875,
          1456.330810546875,
          1422.486328125,
          1302.1500244140625,
          1453.7484130859375,
          1455.1141357421875,
          1221.050048828125,
          1464.824951171875,
          1464.824951171875,
          1464.0283203125,
          1432.3939208984375,
          1450.8680419921875,
          1493.375,
          1456.6287841796875,
          1453.7235107421875,
          1292.199951171875,
          1254.75,
          1470.236083984375,
          1305.6500244140625,
          1253.25,
          1493.949951171875,
          1252.050048828125,
          1361.4520263671875,
          1554.81005859375,
          1359.300048828125,
          1453.0283203125
         ]
        },
        {
         "line": {
          "color": "red",
          "dash": "dot"
         },
         "mode": "lines",
         "name": "Predicted Price",
         "type": "scatter",
         "x": [
          "2024-01-17T00:00:00",
          "2025-02-03T00:00:00",
          "2024-08-07T00:00:00",
          "2024-11-14T00:00:00",
          "2024-12-09T00:00:00",
          "2024-08-26T00:00:00",
          "2025-02-25T00:00:00",
          "2024-04-25T00:00:00",
          "2024-10-23T00:00:00",
          "2024-02-22T00:00:00",
          "2024-10-08T00:00:00",
          "2024-07-10T00:00:00",
          "2024-08-12T00:00:00",
          "2025-01-31T00:00:00",
          "2024-01-11T00:00:00",
          "2024-11-28T00:00:00",
          "2024-12-17T00:00:00",
          "2025-01-13T00:00:00",
          "2024-03-12T00:00:00",
          "2025-02-04T00:00:00",
          "2024-09-16T00:00:00",
          "2024-03-28T00:00:00",
          "2024-10-29T00:00:00",
          "2024-05-06T00:00:00",
          "2024-06-21T00:00:00",
          "2025-02-13T00:00:00",
          "2025-02-12T00:00:00",
          "2024-11-25T00:00:00",
          "2024-06-19T00:00:00",
          "2024-03-06T00:00:00",
          "2024-11-01T00:00:00",
          "2024-05-13T00:00:00",
          "2025-02-05T00:00:00",
          "2024-05-27T00:00:00",
          "2024-03-13T00:00:00",
          "2024-11-04T00:00:00",
          "2024-04-09T00:00:00",
          "2024-04-29T00:00:00",
          "2024-12-27T00:00:00",
          "2024-09-06T00:00:00",
          "2024-10-01T00:00:00",
          "2024-02-19T00:00:00",
          "2024-02-07T00:00:00",
          "2024-02-09T00:00:00",
          "2024-09-23T00:00:00",
          "2024-05-02T00:00:00",
          "2024-08-13T00:00:00",
          "2024-11-29T00:00:00",
          "2025-01-09T00:00:00",
          "2024-05-24T00:00:00",
          "2024-11-07T00:00:00",
          "2024-12-18T00:00:00",
          "2024-09-25T00:00:00",
          "2024-11-13T00:00:00",
          "2024-01-12T00:00:00",
          "2024-06-28T00:00:00",
          "2024-10-18T00:00:00",
          "2024-04-04T00:00:00"
         ],
         "y": [
          1363.8695885216157,
          1248.9529777215187,
          1455.5294991974301,
          1268.080291573316,
          1300.8589636178694,
          1516.9936203185125,
          1188.4295752994242,
          1451.1628843596216,
          1341.188052607197,
          1474.1744109885797,
          1403.4676762760157,
          1572.8690675641808,
          1450.1983872659098,
          1268.2157730770596,
          1366.7546495194708,
          1281.4858176910557,
          1245.6342754878701,
          1236.861226809472,
          1461.2689498385978,
          1286.6410545238907,
          1472.793792387663,
          1472.1967783642508,
          1329.3298063040902,
          1402.620069692011,
          1447.9983783758876,
          1212.9630386237163,
          1218.784334646639,
          1294.8870671287361,
          1453.1715094013618,
          1493.1663817567257,
          1325.669176778743,
          1388.196972796474,
          1281.4097145367143,
          1460.362326529463,
          1420.736759058345,
          1295.183605842116,
          1454.7326651061892,
          1456.2427917854507,
          1219.7078237002636,
          1470.6262463301964,
          1458.944771812195,
          1462.827382585801,
          1422.749669398094,
          1442.961141902475,
          1496.859793191185,
          1457.3141598322468,
          1449.5987111560937,
          1299.9138950203946,
          1252.4205667837014,
          1475.3556536888746,
          1302.6861230413624,
          1252.2831445202705,
          1496.941348938177,
          1251.383353989546,
          1380.7514542076692,
          1528.9638639970187,
          1360.5251556871215,
          1454.6382546258978
         ]
        }
       ],
       "layout": {
        "legend": {
         "x": 0,
         "y": 1
        },
        "template": {
         "data": {
          "bar": [
           {
            "error_x": {
             "color": "#f2f5fa"
            },
            "error_y": {
             "color": "#f2f5fa"
            },
            "marker": {
             "line": {
              "color": "rgb(17,17,17)",
              "width": 0.5
             },
             "pattern": {
              "fillmode": "overlay",
              "size": 10,
              "solidity": 0.2
             }
            },
            "type": "bar"
           }
          ],
          "barpolar": [
           {
            "marker": {
             "line": {
              "color": "rgb(17,17,17)",
              "width": 0.5
             },
             "pattern": {
              "fillmode": "overlay",
              "size": 10,
              "solidity": 0.2
             }
            },
            "type": "barpolar"
           }
          ],
          "carpet": [
           {
            "aaxis": {
             "endlinecolor": "#A2B1C6",
             "gridcolor": "#506784",
             "linecolor": "#506784",
             "minorgridcolor": "#506784",
             "startlinecolor": "#A2B1C6"
            },
            "baxis": {
             "endlinecolor": "#A2B1C6",
             "gridcolor": "#506784",
             "linecolor": "#506784",
             "minorgridcolor": "#506784",
             "startlinecolor": "#A2B1C6"
            },
            "type": "carpet"
           }
          ],
          "choropleth": [
           {
            "colorbar": {
             "outlinewidth": 0,
             "ticks": ""
            },
            "type": "choropleth"
           }
          ],
          "contour": [
           {
            "colorbar": {
             "outlinewidth": 0,
             "ticks": ""
            },
            "colorscale": [
             [
              0,
              "#0d0887"
             ],
             [
              0.1111111111111111,
              "#46039f"
             ],
             [
              0.2222222222222222,
              "#7201a8"
             ],
             [
              0.3333333333333333,
              "#9c179e"
             ],
             [
              0.4444444444444444,
              "#bd3786"
             ],
             [
              0.5555555555555556,
              "#d8576b"
             ],
             [
              0.6666666666666666,
              "#ed7953"
             ],
             [
              0.7777777777777778,
              "#fb9f3a"
             ],
             [
              0.8888888888888888,
              "#fdca26"
             ],
             [
              1,
              "#f0f921"
             ]
            ],
            "type": "contour"
           }
          ],
          "contourcarpet": [
           {
            "colorbar": {
             "outlinewidth": 0,
             "ticks": ""
            },
            "type": "contourcarpet"
           }
          ],
          "heatmap": [
           {
            "colorbar": {
             "outlinewidth": 0,
             "ticks": ""
            },
            "colorscale": [
             [
              0,
              "#0d0887"
             ],
             [
              0.1111111111111111,
              "#46039f"
             ],
             [
              0.2222222222222222,
              "#7201a8"
             ],
             [
              0.3333333333333333,
              "#9c179e"
             ],
             [
              0.4444444444444444,
              "#bd3786"
             ],
             [
              0.5555555555555556,
              "#d8576b"
             ],
             [
              0.6666666666666666,
              "#ed7953"
             ],
             [
              0.7777777777777778,
              "#fb9f3a"
             ],
             [
              0.8888888888888888,
              "#fdca26"
             ],
             [
              1,
              "#f0f921"
             ]
            ],
            "type": "heatmap"
           }
          ],
          "heatmapgl": [
           {
            "colorbar": {
             "outlinewidth": 0,
             "ticks": ""
            },
            "colorscale": [
             [
              0,
              "#0d0887"
             ],
             [
              0.1111111111111111,
              "#46039f"
             ],
             [
              0.2222222222222222,
              "#7201a8"
             ],
             [
              0.3333333333333333,
              "#9c179e"
             ],
             [
              0.4444444444444444,
              "#bd3786"
             ],
             [
              0.5555555555555556,
              "#d8576b"
             ],
             [
              0.6666666666666666,
              "#ed7953"
             ],
             [
              0.7777777777777778,
              "#fb9f3a"
             ],
             [
              0.8888888888888888,
              "#fdca26"
             ],
             [
              1,
              "#f0f921"
             ]
            ],
            "type": "heatmapgl"
           }
          ],
          "histogram": [
           {
            "marker": {
             "pattern": {
              "fillmode": "overlay",
              "size": 10,
              "solidity": 0.2
             }
            },
            "type": "histogram"
           }
          ],
          "histogram2d": [
           {
            "colorbar": {
             "outlinewidth": 0,
             "ticks": ""
            },
            "colorscale": [
             [
              0,
              "#0d0887"
             ],
             [
              0.1111111111111111,
              "#46039f"
             ],
             [
              0.2222222222222222,
              "#7201a8"
             ],
             [
              0.3333333333333333,
              "#9c179e"
             ],
             [
              0.4444444444444444,
              "#bd3786"
             ],
             [
              0.5555555555555556,
              "#d8576b"
             ],
             [
              0.6666666666666666,
              "#ed7953"
             ],
             [
              0.7777777777777778,
              "#fb9f3a"
             ],
             [
              0.8888888888888888,
              "#fdca26"
             ],
             [
              1,
              "#f0f921"
             ]
            ],
            "type": "histogram2d"
           }
          ],
          "histogram2dcontour": [
           {
            "colorbar": {
             "outlinewidth": 0,
             "ticks": ""
            },
            "colorscale": [
             [
              0,
              "#0d0887"
             ],
             [
              0.1111111111111111,
              "#46039f"
             ],
             [
              0.2222222222222222,
              "#7201a8"
             ],
             [
              0.3333333333333333,
              "#9c179e"
             ],
             [
              0.4444444444444444,
              "#bd3786"
             ],
             [
              0.5555555555555556,
              "#d8576b"
             ],
             [
              0.6666666666666666,
              "#ed7953"
             ],
             [
              0.7777777777777778,
              "#fb9f3a"
             ],
             [
              0.8888888888888888,
              "#fdca26"
             ],
             [
              1,
              "#f0f921"
             ]
            ],
            "type": "histogram2dcontour"
           }
          ],
          "mesh3d": [
           {
            "colorbar": {
             "outlinewidth": 0,
             "ticks": ""
            },
            "type": "mesh3d"
           }
          ],
          "parcoords": [
           {
            "line": {
             "colorbar": {
              "outlinewidth": 0,
              "ticks": ""
             }
            },
            "type": "parcoords"
           }
          ],
          "pie": [
           {
            "automargin": true,
            "type": "pie"
           }
          ],
          "scatter": [
           {
            "marker": {
             "line": {
              "color": "#283442"
             }
            },
            "type": "scatter"
           }
          ],
          "scatter3d": [
           {
            "line": {
             "colorbar": {
              "outlinewidth": 0,
              "ticks": ""
             }
            },
            "marker": {
             "colorbar": {
              "outlinewidth": 0,
              "ticks": ""
             }
            },
            "type": "scatter3d"
           }
          ],
          "scattercarpet": [
           {
            "marker": {
             "colorbar": {
              "outlinewidth": 0,
              "ticks": ""
             }
            },
            "type": "scattercarpet"
           }
          ],
          "scattergeo": [
           {
            "marker": {
             "colorbar": {
              "outlinewidth": 0,
              "ticks": ""
             }
            },
            "type": "scattergeo"
           }
          ],
          "scattergl": [
           {
            "marker": {
             "line": {
              "color": "#283442"
             }
            },
            "type": "scattergl"
           }
          ],
          "scattermapbox": [
           {
            "marker": {
             "colorbar": {
              "outlinewidth": 0,
              "ticks": ""
             }
            },
            "type": "scattermapbox"
           }
          ],
          "scatterpolar": [
           {
            "marker": {
             "colorbar": {
              "outlinewidth": 0,
              "ticks": ""
             }
            },
            "type": "scatterpolar"
           }
          ],
          "scatterpolargl": [
           {
            "marker": {
             "colorbar": {
              "outlinewidth": 0,
              "ticks": ""
             }
            },
            "type": "scatterpolargl"
           }
          ],
          "scatterternary": [
           {
            "marker": {
             "colorbar": {
              "outlinewidth": 0,
              "ticks": ""
             }
            },
            "type": "scatterternary"
           }
          ],
          "surface": [
           {
            "colorbar": {
             "outlinewidth": 0,
             "ticks": ""
            },
            "colorscale": [
             [
              0,
              "#0d0887"
             ],
             [
              0.1111111111111111,
              "#46039f"
             ],
             [
              0.2222222222222222,
              "#7201a8"
             ],
             [
              0.3333333333333333,
              "#9c179e"
             ],
             [
              0.4444444444444444,
              "#bd3786"
             ],
             [
              0.5555555555555556,
              "#d8576b"
             ],
             [
              0.6666666666666666,
              "#ed7953"
             ],
             [
              0.7777777777777778,
              "#fb9f3a"
             ],
             [
              0.8888888888888888,
              "#fdca26"
             ],
             [
              1,
              "#f0f921"
             ]
            ],
            "type": "surface"
           }
          ],
          "table": [
           {
            "cells": {
             "fill": {
              "color": "#506784"
             },
             "line": {
              "color": "rgb(17,17,17)"
             }
            },
            "header": {
             "fill": {
              "color": "#2a3f5f"
             },
             "line": {
              "color": "rgb(17,17,17)"
             }
            },
            "type": "table"
           }
          ]
         },
         "layout": {
          "annotationdefaults": {
           "arrowcolor": "#f2f5fa",
           "arrowhead": 0,
           "arrowwidth": 1
          },
          "autotypenumbers": "strict",
          "coloraxis": {
           "colorbar": {
            "outlinewidth": 0,
            "ticks": ""
           }
          },
          "colorscale": {
           "diverging": [
            [
             0,
             "#8e0152"
            ],
            [
             0.1,
             "#c51b7d"
            ],
            [
             0.2,
             "#de77ae"
            ],
            [
             0.3,
             "#f1b6da"
            ],
            [
             0.4,
             "#fde0ef"
            ],
            [
             0.5,
             "#f7f7f7"
            ],
            [
             0.6,
             "#e6f5d0"
            ],
            [
             0.7,
             "#b8e186"
            ],
            [
             0.8,
             "#7fbc41"
            ],
            [
             0.9,
             "#4d9221"
            ],
            [
             1,
             "#276419"
            ]
           ],
           "sequential": [
            [
             0,
             "#0d0887"
            ],
            [
             0.1111111111111111,
             "#46039f"
            ],
            [
             0.2222222222222222,
             "#7201a8"
            ],
            [
             0.3333333333333333,
             "#9c179e"
            ],
            [
             0.4444444444444444,
             "#bd3786"
            ],
            [
             0.5555555555555556,
             "#d8576b"
            ],
            [
             0.6666666666666666,
             "#ed7953"
            ],
            [
             0.7777777777777778,
             "#fb9f3a"
            ],
            [
             0.8888888888888888,
             "#fdca26"
            ],
            [
             1,
             "#f0f921"
            ]
           ],
           "sequentialminus": [
            [
             0,
             "#0d0887"
            ],
            [
             0.1111111111111111,
             "#46039f"
            ],
            [
             0.2222222222222222,
             "#7201a8"
            ],
            [
             0.3333333333333333,
             "#9c179e"
            ],
            [
             0.4444444444444444,
             "#bd3786"
            ],
            [
             0.5555555555555556,
             "#d8576b"
            ],
            [
             0.6666666666666666,
             "#ed7953"
            ],
            [
             0.7777777777777778,
             "#fb9f3a"
            ],
            [
             0.8888888888888888,
             "#fdca26"
            ],
            [
             1,
             "#f0f921"
            ]
           ]
          },
          "colorway": [
           "#636efa",
           "#EF553B",
           "#00cc96",
           "#ab63fa",
           "#FFA15A",
           "#19d3f3",
           "#FF6692",
           "#B6E880",
           "#FF97FF",
           "#FECB52"
          ],
          "font": {
           "color": "#f2f5fa"
          },
          "geo": {
           "bgcolor": "rgb(17,17,17)",
           "lakecolor": "rgb(17,17,17)",
           "landcolor": "rgb(17,17,17)",
           "showlakes": true,
           "showland": true,
           "subunitcolor": "#506784"
          },
          "hoverlabel": {
           "align": "left"
          },
          "hovermode": "closest",
          "mapbox": {
           "style": "dark"
          },
          "paper_bgcolor": "rgb(17,17,17)",
          "plot_bgcolor": "rgb(17,17,17)",
          "polar": {
           "angularaxis": {
            "gridcolor": "#506784",
            "linecolor": "#506784",
            "ticks": ""
           },
           "bgcolor": "rgb(17,17,17)",
           "radialaxis": {
            "gridcolor": "#506784",
            "linecolor": "#506784",
            "ticks": ""
           }
          },
          "scene": {
           "xaxis": {
            "backgroundcolor": "rgb(17,17,17)",
            "gridcolor": "#506784",
            "gridwidth": 2,
            "linecolor": "#506784",
            "showbackground": true,
            "ticks": "",
            "zerolinecolor": "#C8D4E3"
           },
           "yaxis": {
            "backgroundcolor": "rgb(17,17,17)",
            "gridcolor": "#506784",
            "gridwidth": 2,
            "linecolor": "#506784",
            "showbackground": true,
            "ticks": "",
            "zerolinecolor": "#C8D4E3"
           },
           "zaxis": {
            "backgroundcolor": "rgb(17,17,17)",
            "gridcolor": "#506784",
            "gridwidth": 2,
            "linecolor": "#506784",
            "showbackground": true,
            "ticks": "",
            "zerolinecolor": "#C8D4E3"
           }
          },
          "shapedefaults": {
           "line": {
            "color": "#f2f5fa"
           }
          },
          "sliderdefaults": {
           "bgcolor": "#C8D4E3",
           "bordercolor": "rgb(17,17,17)",
           "borderwidth": 1,
           "tickwidth": 0
          },
          "ternary": {
           "aaxis": {
            "gridcolor": "#506784",
            "linecolor": "#506784",
            "ticks": ""
           },
           "baxis": {
            "gridcolor": "#506784",
            "linecolor": "#506784",
            "ticks": ""
           },
           "bgcolor": "rgb(17,17,17)",
           "caxis": {
            "gridcolor": "#506784",
            "linecolor": "#506784",
            "ticks": ""
           }
          },
          "title": {
           "x": 0.05
          },
          "updatemenudefaults": {
           "bgcolor": "#506784",
           "borderwidth": 0
          },
          "xaxis": {
           "automargin": true,
           "gridcolor": "#283442",
           "linecolor": "#506784",
           "ticks": "",
           "title": {
            "standoff": 15
           },
           "zerolinecolor": "#283442",
           "zerolinewidth": 2
          },
          "yaxis": {
           "automargin": true,
           "gridcolor": "#283442",
           "linecolor": "#506784",
           "ticks": "",
           "title": {
            "standoff": 15
           },
           "zerolinecolor": "#283442",
           "zerolinewidth": 2
          }
         }
        },
        "title": {
         "text": "Stock Price: Actual vs Predicted"
        },
        "xaxis": {
         "title": {
          "text": "Date"
         }
        },
        "yaxis": {
         "title": {
          "text": "Stock Price"
         }
        }
       }
      }
     },
     "metadata": {},
     "output_type": "display_data"
    }
   ],
   "source": [
    "import plotly.graph_objects as go\n",
    "\n",
    "# Create interactive Plotly figure\n",
    "fig = go.Figure()\n",
    "\n",
    "# Add actual stock price trace\n",
    "fig.add_trace(go.Scatter(x=y_test.index, y=y_test, \n",
    "                         mode='lines', name='Actual Price',\n",
    "                         line=dict(color='blue')))\n",
    "\n",
    "# Add predicted stock price trace\n",
    "fig.add_trace(go.Scatter(x=y_test.index, y=y_pred, \n",
    "                         mode='lines', name='Predicted Price',\n",
    "                         line=dict(color='red', dash='dot')))  # Dashed line for prediction\n",
    "\n",
    "# Update layout\n",
    "fig.update_layout(title=\"Stock Price: Actual vs Predicted\",\n",
    "                  xaxis_title=\"Date\",\n",
    "                  yaxis_title=\"Stock Price\",\n",
    "                  legend=dict(x=0, y=1),\n",
    "                  template=\"plotly_dark\")  # Dark theme for better contrast\n",
    "\n",
    "# Show the interactive plot\n",
    "fig.show()\n"
   ]
  },
  {
   "cell_type": "code",
   "execution_count": 15,
   "metadata": {},
   "outputs": [
    {
     "data": {
      "text/html": [
       "<div>\n",
       "<style scoped>\n",
       "    .dataframe tbody tr th:only-of-type {\n",
       "        vertical-align: middle;\n",
       "    }\n",
       "\n",
       "    .dataframe tbody tr th {\n",
       "        vertical-align: top;\n",
       "    }\n",
       "\n",
       "    .dataframe thead th {\n",
       "        text-align: right;\n",
       "    }\n",
       "</style>\n",
       "<table border=\"1\" class=\"dataframe\">\n",
       "  <thead>\n",
       "    <tr style=\"text-align: right;\">\n",
       "      <th></th>\n",
       "      <th>Actual Price</th>\n",
       "      <th>Predicted Price</th>\n",
       "    </tr>\n",
       "    <tr>\n",
       "      <th>Date</th>\n",
       "      <th></th>\n",
       "      <th></th>\n",
       "    </tr>\n",
       "  </thead>\n",
       "  <tbody>\n",
       "    <tr>\n",
       "      <th>2024-01-17</th>\n",
       "      <td>1352.363892</td>\n",
       "      <td>1363.869589</td>\n",
       "    </tr>\n",
       "    <tr>\n",
       "      <th>2025-02-03</th>\n",
       "      <td>1245.900024</td>\n",
       "      <td>1248.952978</td>\n",
       "    </tr>\n",
       "    <tr>\n",
       "      <th>2024-08-07</th>\n",
       "      <td>1454.915405</td>\n",
       "      <td>1455.529499</td>\n",
       "    </tr>\n",
       "    <tr>\n",
       "      <th>2024-11-14</th>\n",
       "      <td>1267.599976</td>\n",
       "      <td>1268.080292</td>\n",
       "    </tr>\n",
       "    <tr>\n",
       "      <th>2024-12-09</th>\n",
       "      <td>1295.150024</td>\n",
       "      <td>1300.858964</td>\n",
       "    </tr>\n",
       "    <tr>\n",
       "      <th>2024-08-26</th>\n",
       "      <td>1512.599976</td>\n",
       "      <td>1516.993620</td>\n",
       "    </tr>\n",
       "    <tr>\n",
       "      <th>2025-02-25</th>\n",
       "      <td>1204.000000</td>\n",
       "      <td>1188.429575</td>\n",
       "    </tr>\n",
       "    <tr>\n",
       "      <th>2024-04-25</th>\n",
       "      <td>1450.098267</td>\n",
       "      <td>1451.162884</td>\n",
       "    </tr>\n",
       "    <tr>\n",
       "      <th>2024-10-23</th>\n",
       "      <td>1338.525024</td>\n",
       "      <td>1341.188053</td>\n",
       "    </tr>\n",
       "    <tr>\n",
       "      <th>2024-02-22</th>\n",
       "      <td>1471.725952</td>\n",
       "      <td>1474.174411</td>\n",
       "    </tr>\n",
       "    <tr>\n",
       "      <th>2024-10-08</th>\n",
       "      <td>1397.349976</td>\n",
       "      <td>1403.467676</td>\n",
       "    </tr>\n",
       "    <tr>\n",
       "      <th>2024-07-10</th>\n",
       "      <td>1573.507690</td>\n",
       "      <td>1572.869068</td>\n",
       "    </tr>\n",
       "    <tr>\n",
       "      <th>2024-08-12</th>\n",
       "      <td>1450.743896</td>\n",
       "      <td>1450.198387</td>\n",
       "    </tr>\n",
       "    <tr>\n",
       "      <th>2025-01-31</th>\n",
       "      <td>1265.099976</td>\n",
       "      <td>1268.215773</td>\n",
       "    </tr>\n",
       "    <tr>\n",
       "      <th>2024-01-11</th>\n",
       "      <td>1350.700317</td>\n",
       "      <td>1366.754650</td>\n",
       "    </tr>\n",
       "    <tr>\n",
       "      <th>2024-11-28</th>\n",
       "      <td>1270.800049</td>\n",
       "      <td>1281.485818</td>\n",
       "    </tr>\n",
       "    <tr>\n",
       "      <th>2024-12-17</th>\n",
       "      <td>1245.300049</td>\n",
       "      <td>1245.634275</td>\n",
       "    </tr>\n",
       "    <tr>\n",
       "      <th>2025-01-13</th>\n",
       "      <td>1239.849976</td>\n",
       "      <td>1236.861227</td>\n",
       "    </tr>\n",
       "    <tr>\n",
       "      <th>2024-03-12</th>\n",
       "      <td>1465.443726</td>\n",
       "      <td>1461.268950</td>\n",
       "    </tr>\n",
       "    <tr>\n",
       "      <th>2025-02-04</th>\n",
       "      <td>1285.199951</td>\n",
       "      <td>1286.641055</td>\n",
       "    </tr>\n",
       "  </tbody>\n",
       "</table>\n",
       "</div>"
      ],
      "text/plain": [
       "            Actual Price  Predicted Price\n",
       "Date                                     \n",
       "2024-01-17   1352.363892      1363.869589\n",
       "2025-02-03   1245.900024      1248.952978\n",
       "2024-08-07   1454.915405      1455.529499\n",
       "2024-11-14   1267.599976      1268.080292\n",
       "2024-12-09   1295.150024      1300.858964\n",
       "2024-08-26   1512.599976      1516.993620\n",
       "2025-02-25   1204.000000      1188.429575\n",
       "2024-04-25   1450.098267      1451.162884\n",
       "2024-10-23   1338.525024      1341.188053\n",
       "2024-02-22   1471.725952      1474.174411\n",
       "2024-10-08   1397.349976      1403.467676\n",
       "2024-07-10   1573.507690      1572.869068\n",
       "2024-08-12   1450.743896      1450.198387\n",
       "2025-01-31   1265.099976      1268.215773\n",
       "2024-01-11   1350.700317      1366.754650\n",
       "2024-11-28   1270.800049      1281.485818\n",
       "2024-12-17   1245.300049      1245.634275\n",
       "2025-01-13   1239.849976      1236.861227\n",
       "2024-03-12   1465.443726      1461.268950\n",
       "2025-02-04   1285.199951      1286.641055"
      ]
     },
     "metadata": {},
     "output_type": "display_data"
    }
   ],
   "source": [
    "import pandas as pd\n",
    "\n",
    "# Create a DataFrame with Actual and Predicted values\n",
    "results_df = pd.DataFrame({'Actual Price': y_test, 'Predicted Price': y_pred}, index=y_test.index)\n",
    "\n",
    "\n",
    "# If using Jupyter Notebook, display a nicer table\n",
    "from IPython.display import display\n",
    "display(results_df.head(20))  # Show first 20 rows\n"
   ]
  },
  {
   "cell_type": "code",
   "execution_count": null,
   "metadata": {},
   "outputs": [
    {
     "name": "stdout",
     "output_type": "stream",
     "text": [
      "Decision Tree RMSE: 22.106237278845015\n"
     ]
    }
   ],
   "source": [
    "\n",
    "# Decision Tree Model\n",
    "dt = DecisionTreeRegressor()\n",
    "dt.fit(X_train, y_train)\n",
    "y_pred_dt = dt.predict(X_test)\n",
    "print(\"Decision Tree RMSE:\", np.sqrt(mean_squared_error(y_test, y_pred_dt)))\n"
   ]
  },
  {
   "cell_type": "code",
   "execution_count": null,
   "metadata": {},
   "outputs": [],
   "source": []
  },
  {
   "cell_type": "code",
   "execution_count": null,
   "metadata": {},
   "outputs": [],
   "source": []
  },
  {
   "cell_type": "code",
   "execution_count": null,
   "metadata": {},
   "outputs": [
    {
     "name": "stdout",
     "output_type": "stream",
     "text": [
      "Using column: RELIANCE.NS_RELIANCE.NS\n"
     ]
    },
    {
     "name": "stderr",
     "output_type": "stream",
     "text": [
      "c:\\Users\\NIKHIL SINGH\\anaconda3\\Lib\\site-packages\\statsmodels\\tsa\\base\\tsa_model.py:473: ValueWarning:\n",
      "\n",
      "A date index has been provided, but it has no associated frequency information and so will be ignored when e.g. forecasting.\n",
      "\n",
      "c:\\Users\\NIKHIL SINGH\\anaconda3\\Lib\\site-packages\\statsmodels\\tsa\\base\\tsa_model.py:473: ValueWarning:\n",
      "\n",
      "A date index has been provided, but it has no associated frequency information and so will be ignored when e.g. forecasting.\n",
      "\n",
      "c:\\Users\\NIKHIL SINGH\\anaconda3\\Lib\\site-packages\\statsmodels\\tsa\\base\\tsa_model.py:473: ValueWarning:\n",
      "\n",
      "A date index has been provided, but it has no associated frequency information and so will be ignored when e.g. forecasting.\n",
      "\n"
     ]
    },
    {
     "name": "stdout",
     "output_type": "stream",
     "text": [
      "ARIMA Forecast: 534    1201.284424\n",
      "535    1201.631369\n",
      "536    1202.962269\n",
      "537    1202.428726\n",
      "538    1202.963390\n",
      "539    1202.757249\n",
      "540    1202.819601\n",
      "541    1202.668422\n",
      "542    1202.742024\n",
      "543    1202.689713\n",
      "Name: predicted_mean, dtype: float64\n"
     ]
    },
    {
     "name": "stderr",
     "output_type": "stream",
     "text": [
      "c:\\Users\\NIKHIL SINGH\\anaconda3\\Lib\\site-packages\\statsmodels\\tsa\\base\\tsa_model.py:836: ValueWarning:\n",
      "\n",
      "No supported index is available. Prediction results will be given with an integer index beginning at `start`.\n",
      "\n",
      "c:\\Users\\NIKHIL SINGH\\anaconda3\\Lib\\site-packages\\statsmodels\\tsa\\base\\tsa_model.py:836: FutureWarning:\n",
      "\n",
      "No supported index is available. In the next version, calling this method in a model without a supported index will result in an exception.\n",
      "\n"
     ]
    }
   ],
   "source": [
    "# Identify the correct column for RELIANCE.NS\n",
    "reliance_price_col = next((col for col in data.columns if 'RELIANCE.NS' in col and 'RELIANCE.NS' in col), None)\n",
    "\n",
    "# Ensure the column was found\n",
    "if not reliance_price_col:\n",
    "    raise ValueError(\"Could not find RELIANCE.NS column in data\")\n",
    "\n",
    "# Print the detected column name\n",
    "print(\"Using column:\", reliance_price_col)\n",
    "\n",
    "# ARIMA Time Series Forecasting\n",
    "arima_model = ARIMA(data[reliance_price_col].dropna(), order=(5,1,0))\n",
    "arima_result = arima_model.fit()\n",
    "forecast = arima_result.forecast(steps=10)\n",
    "\n",
    "print(\"ARIMA Forecast:\", forecast)\n"
   ]
  },
  {
   "cell_type": "code",
   "execution_count": null,
   "metadata": {},
   "outputs": [
    {
     "name": "stderr",
     "output_type": "stream",
     "text": [
      "c:\\Users\\NIKHIL SINGH\\anaconda3\\Lib\\site-packages\\sklearn\\cluster\\_kmeans.py:1429: UserWarning:\n",
      "\n",
      "KMeans is known to have a memory leak on Windows with MKL, when there are less chunks than available threads. You can avoid it by setting the environment variable OMP_NUM_THREADS=3.\n",
      "\n"
     ]
    },
    {
     "name": "stdout",
     "output_type": "stream",
     "text": [
      "Using columns:\n",
      "Stock Price Column: RELIANCE.NS_RELIANCE.NS\n",
      "50MA Column: RELIANCE.NS_50MA\n"
     ]
    },
    {
     "data": {
      "image/png": "[encoded data removed]",
      "text/plain": [
       "<Figure size 640x480 with 1 Axes>"
      ]
     },
     "metadata": {},
     "output_type": "display_data"
    }
   ],
   "source": [
    "# Identify the correct columns dynamically\n",
    "reliance_price_col = next((col for col in data.columns if 'RELIANCE.NS' in col and 'RELIANCE.NS' in col), None)\n",
    "reliance_50ma_col = next((col for col in data.columns if 'RELIANCE' in col and '50MA' in col), None)\n",
    "\n",
    "# Ensure the columns exist\n",
    "if not reliance_price_col or not reliance_50ma_col:\n",
    "    raise ValueError(\"Could not find the required columns in data\")\n",
    "\n",
    "# Print detected column names for debugging\n",
    "print(\"Using columns:\")\n",
    "print(\"Stock Price Column:\", reliance_price_col)\n",
    "print(\"50MA Column:\", reliance_50ma_col)\n",
    "\n",
    "# K-Means Clustering\n",
    "kmeans = KMeans(n_clusters=3, random_state=42)\n",
    "data['Cluster'] = kmeans.fit_predict(data.fillna(0))\n",
    "\n",
    "# Scatter plot with correct column names\n",
    "sns.scatterplot(data=data, x=reliance_price_col, y=reliance_50ma_col, hue='Cluster')\n",
    "plt.show()\n"
   ]
  },
  {
   "cell_type": "code",
   "execution_count": null,
   "metadata": {},
   "outputs": [
    {
     "name": "stderr",
     "output_type": "stream",
     "text": [
      "c:\\Users\\NIKHIL SINGH\\anaconda3\\Lib\\site-packages\\keras\\src\\layers\\rnn\\rnn.py:200: UserWarning:\n",
      "\n",
      "Do not pass an `input_shape`/`input_dim` argument to a layer. When using Sequential models, prefer using an `Input(shape)` object as the first layer in the model instead.\n",
      "\n"
     ]
    },
    {
     "name": "stdout",
     "output_type": "stream",
     "text": [
      "Stock Prediction Models Implemented Successfully!\n"
     ]
    }
   ],
   "source": [
    "\n",
    "# Neural Network (LSTM)\n",
    "n_features = 1\n",
    "model = Sequential([\n",
    "    LSTM(50, activation='relu', return_sequences=True, input_shape=(10, n_features)),\n",
    "    LSTM(50, activation='relu'),\n",
    "    Dense(1)\n",
    "])\n",
    "model.compile(optimizer='adam', loss='mse')\n",
    "# Note: Further data transformation is needed for LSTM training.\n",
    "\n",
    "print(\"Stock Prediction Models Implemented Successfully!\")\n"
   ]
  },
  {
   "cell_type": "code",
   "execution_count": null,
   "metadata": {},
   "outputs": [
    {
     "data": {
      "application/vnd.plotly.v1+json": {
       "config": {
        "plotlyServerURL": "https://plot.ly"
       },
       "data": [
        {
         "hovertemplate": "Date=%{x}<br>RELIANCE.NS_RELIANCE.NS=%{y}<extra></extra>",
         "legendgroup": "",
         "line": {
          "color": "#636efa",
          "dash": "solid"
         },
         "marker": {
          "symbol": "circle"
         },
         "mode": "lines",
         "name": "",
         "orientation": "v",
         "showlegend": false,
         "type": "scatter",
         "x": [
          "2023-01-02T00:00:00",
          "2023-01-03T00:00:00",
          "2023-01-04T00:00:00",
          "2023-01-05T00:00:00",
          "2023-01-06T00:00:00",
          "2023-01-09T00:00:00",
          "2023-01-10T00:00:00",
          "2023-01-11T00:00:00",
          "2023-01-12T00:00:00",
          "2023-01-13T00:00:00",
          "2023-01-16T00:00:00",
          "2023-01-17T00:00:00",
          "2023-01-18T00:00:00",
          "2023-01-19T00:00:00",
          "2023-01-20T00:00:00",
          "2023-01-23T00:00:00",
          "2023-01-24T00:00:00",
          "2023-01-25T00:00:00",
          "2023-01-27T00:00:00",
          "2023-01-30T00:00:00",
          "2023-01-31T00:00:00",
          "2023-02-01T00:00:00",
          "2023-02-02T00:00:00",
          "2023-02-03T00:00:00",
          "2023-02-06T00:00:00",
          "2023-02-07T00:00:00",
          "2023-02-08T00:00:00",
          "2023-02-09T00:00:00",
          "2023-02-10T00:00:00",
          "2023-02-13T00:00:00",
          "2023-02-14T00:00:00",
          "2023-02-15T00:00:00",
          "2023-02-16T00:00:00",
          "2023-02-17T00:00:00",
          "2023-02-20T00:00:00",
          "2023-02-21T00:00:00",
          "2023-02-22T00:00:00",
          "2023-02-23T00:00:00",
          "2023-02-24T00:00:00",
          "2023-02-27T00:00:00",
          "2023-02-28T00:00:00",
          "2023-03-01T00:00:00",
          "2023-03-02T00:00:00",
          "2023-03-03T00:00:00",
          "2023-03-06T00:00:00",
          "2023-03-08T00:00:00",
          "2023-03-09T00:00:00",
          "2023-03-10T00:00:00",
          "2023-03-13T00:00:00",
          "2023-03-14T00:00:00",
          "2023-03-15T00:00:00",
          "2023-03-16T00:00:00",
          "2023-03-17T00:00:00",
          "2023-03-20T00:00:00",
          "2023-03-21T00:00:00",
          "2023-03-22T00:00:00",
          "2023-03-23T00:00:00",
          "2023-03-24T00:00:00",
          "2023-03-27T00:00:00",
          "2023-03-28T00:00:00",
          "2023-03-29T00:00:00",
          "2023-03-31T00:00:00",
          "2023-04-03T00:00:00",
          "2023-04-05T00:00:00",
          "2023-04-06T00:00:00",
          "2023-04-10T00:00:00",
          "2023-04-11T00:00:00",
          "2023-04-12T00:00:00",
          "2023-04-13T00:00:00",
          "2023-04-17T00:00:00",
          "2023-04-18T00:00:00",
          "2023-04-19T00:00:00",
          "2023-04-20T00:00:00",
          "2023-04-21T00:00:00",
          "2023-04-24T00:00:00",
          "2023-04-25T00:00:00",
          "2023-04-26T00:00:00",
          "2023-04-27T00:00:00",
          "2023-04-28T00:00:00",
          "2023-05-02T00:00:00",
          "2023-05-03T00:00:00",
          "2023-05-04T00:00:00",
          "2023-05-05T00:00:00",
          "2023-05-08T00:00:00",
          "2023-05-09T00:00:00",
          "2023-05-10T00:00:00",
          "2023-05-11T00:00:00",
          "2023-05-12T00:00:00",
          "2023-05-15T00:00:00",
          "2023-05-16T00:00:00",
          "2023-05-17T00:00:00",
          "2023-05-18T00:00:00",
          "2023-05-19T00:00:00",
          "2023-05-22T00:00:00",
          "2023-05-23T00:00:00",
          "2023-05-24T00:00:00",
          "2023-05-25T00:00:00",
          "2023-05-26T00:00:00",
          "2023-05-29T00:00:00",
          "2023-05-30T00:00:00",
          "2023-05-31T00:00:00",
          "2023-06-01T00:00:00",
          "2023-06-02T00:00:00",
          "2023-06-05T00:00:00",
          "2023-06-06T00:00:00",
          "2023-06-07T00:00:00",
          "2023-06-08T00:00:00",
          "2023-06-09T00:00:00",
          "2023-06-12T00:00:00",
          "2023-06-13T00:00:00",
          "2023-06-14T00:00:00",
          "2023-06-15T00:00:00",
          "2023-06-16T00:00:00",
          "2023-06-19T00:00:00",
          "2023-06-20T00:00:00",
          "2023-06-21T00:00:00",
          "2023-06-22T00:00:00",
          "2023-06-23T00:00:00",
          "2023-06-26T00:00:00",
          "2023-06-27T00:00:00",
          "2023-06-28T00:00:00",
          "2023-06-30T00:00:00",
          "2023-07-03T00:00:00",
          "2023-07-04T00:00:00",
          "2023-07-05T00:00:00",
          "2023-07-06T00:00:00",
          "2023-07-07T00:00:00",
          "2023-07-10T00:00:00",
          "2023-07-11T00:00:00",
          "2023-07-12T00:00:00",
          "2023-07-13T00:00:00",
          "2023-07-14T00:00:00",
          "2023-07-17T00:00:00",
          "2023-07-18T00:00:00",
          "2023-07-19T00:00:00",
          "2023-07-20T00:00:00",
          "2023-07-21T00:00:00",
          "2023-07-24T00:00:00",
          "2023-07-25T00:00:00",
          "2023-07-26T00:00:00",
          "2023-07-27T00:00:00",
          "2023-07-28T00:00:00",
          "2023-07-31T00:00:00",
          "2023-08-01T00:00:00",
          "2023-08-02T00:00:00",
          "2023-08-03T00:00:00",
          "2023-08-04T00:00:00",
          "2023-08-07T00:00:00",
          "2023-08-08T00:00:00",
          "2023-08-09T00:00:00",
          "2023-08-10T00:00:00",
          "2023-08-11T00:00:00",
          "2023-08-14T00:00:00",
          "2023-08-16T00:00:00",
          "2023-08-17T00:00:00",
          "2023-08-18T00:00:00",
          "2023-08-21T00:00:00",
          "2023-08-22T00:00:00",
          "2023-08-23T00:00:00",
          "2023-08-24T00:00:00",
          "2023-08-25T00:00:00",
          "2023-08-28T00:00:00",
          "2023-08-29T00:00:00",
          "2023-08-30T00:00:00",
          "2023-08-31T00:00:00",
          "2023-09-01T00:00:00",
          "2023-09-04T00:00:00",
          "2023-09-05T00:00:00",
          "2023-09-06T00:00:00",
          "2023-09-07T00:00:00",
          "2023-09-08T00:00:00",
          "2023-09-11T00:00:00",
          "2023-09-12T00:00:00",
          "2023-09-13T00:00:00",
          "2023-09-14T00:00:00",
          "2023-09-15T00:00:00",
          "2023-09-18T00:00:00",
          "2023-09-20T00:00:00",
          "2023-09-21T00:00:00",
          "2023-09-22T00:00:00",
          "2023-09-25T00:00:00",
          "2023-09-26T00:00:00",
          "2023-09-27T00:00:00",
          "2023-09-28T00:00:00",
          "2023-09-29T00:00:00",
          "2023-10-03T00:00:00",
          "2023-10-04T00:00:00",
          "2023-10-05T00:00:00",
          "2023-10-06T00:00:00",
          "2023-10-09T00:00:00",
          "2023-10-10T00:00:00",
          "2023-10-11T00:00:00",
          "2023-10-12T00:00:00",
          "2023-10-13T00:00:00",
          "2023-10-16T00:00:00",
          "2023-10-17T00:00:00",
          "2023-10-18T00:00:00",
          "2023-10-19T00:00:00",
          "2023-10-20T00:00:00",
          "2023-10-23T00:00:00",
          "2023-10-25T00:00:00",
          "2023-10-26T00:00:00",
          "2023-10-27T00:00:00",
          "2023-10-30T00:00:00",
          "2023-10-31T00:00:00",
          "2023-11-01T00:00:00",
          "2023-11-02T00:00:00",
          "2023-11-03T00:00:00",
          "2023-11-06T00:00:00",
          "2023-11-07T00:00:00",
          "2023-11-08T00:00:00",
          "2023-11-09T00:00:00",
          "2023-11-10T00:00:00",
          "2023-11-13T00:00:00",
          "2023-11-15T00:00:00",
          "2023-11-16T00:00:00",
          "2023-11-17T00:00:00",
          "2023-11-20T00:00:00",
          "2023-11-21T00:00:00",
          "2023-11-22T00:00:00",
          "2023-11-23T00:00:00",
          "2023-11-24T00:00:00",
          "2023-11-28T00:00:00",
          "2023-11-29T00:00:00",
          "2023-11-30T00:00:00",
          "2023-12-01T00:00:00",
          "2023-12-04T00:00:00",
          "2023-12-05T00:00:00",
          "2023-12-06T00:00:00",
          "2023-12-07T00:00:00",
          "2023-12-08T00:00:00",
          "2023-12-11T00:00:00",
          "2023-12-12T00:00:00",
          "2023-12-13T00:00:00",
          "2023-12-14T00:00:00",
          "2023-12-15T00:00:00",
          "2023-12-18T00:00:00",
          "2023-12-19T00:00:00",
          "2023-12-20T00:00:00",
          "2023-12-21T00:00:00",
          "2023-12-22T00:00:00",
          "2023-12-26T00:00:00",
          "2023-12-27T00:00:00",
          "2023-12-28T00:00:00",
          "2023-12-29T00:00:00",
          "2024-01-01T00:00:00",
          "2024-01-02T00:00:00",
          "2024-01-03T00:00:00",
          "2024-01-04T00:00:00",
          "2024-01-05T00:00:00",
          "2024-01-08T00:00:00",
          "2024-01-09T00:00:00",
          "2024-01-10T00:00:00",
          "2024-01-11T00:00:00",
          "2024-01-12T00:00:00",
          "2024-01-15T00:00:00",
          "2024-01-16T00:00:00",
          "2024-01-17T00:00:00",
          "2024-01-18T00:00:00",
          "2024-01-19T00:00:00",
          "2024-01-23T00:00:00",
          "2024-01-24T00:00:00",
          "2024-01-25T00:00:00",
          "2024-01-29T00:00:00",
          "2024-01-30T00:00:00",
          "2024-01-31T00:00:00",
          "2024-02-01T00:00:00",
          "2024-02-02T00:00:00",
          "2024-02-05T00:00:00",
          "2024-02-06T00:00:00",
          "2024-02-07T00:00:00",
          "2024-02-08T00:00:00",
          "2024-02-09T00:00:00",
          "2024-02-12T00:00:00",
          "2024-02-13T00:00:00",
          "2024-02-14T00:00:00",
          "2024-02-15T00:00:00",
          "2024-02-16T00:00:00",
          "2024-02-19T00:00:00",
          "2024-02-20T00:00:00",
          "2024-02-21T00:00:00",
          "2024-02-22T00:00:00",
          "2024-02-23T00:00:00",
          "2024-02-26T00:00:00",
          "2024-02-27T00:00:00",
          "2024-02-28T00:00:00",
          "2024-02-29T00:00:00",
          "2024-03-01T00:00:00",
          "2024-03-04T00:00:00",
          "2024-03-05T00:00:00",
          "2024-03-06T00:00:00",
          "2024-03-07T00:00:00",
          "2024-03-11T00:00:00",
          "2024-03-12T00:00:00",
          "2024-03-13T00:00:00",
          "2024-03-14T00:00:00",
          "2024-03-15T00:00:00",
          "2024-03-18T00:00:00",
          "2024-03-19T00:00:00",
          "2024-03-20T00:00:00",
          "2024-03-21T00:00:00",
          "2024-03-22T00:00:00",
          "2024-03-26T00:00:00",
          "2024-03-27T00:00:00",
          "2024-03-28T00:00:00",
          "2024-04-01T00:00:00",
          "2024-04-02T00:00:00",
          "2024-04-03T00:00:00",
          "2024-04-04T00:00:00",
          "2024-04-05T00:00:00",
          "2024-04-08T00:00:00",
          "2024-04-09T00:00:00",
          "2024-04-10T00:00:00",
          "2024-04-12T00:00:00",
          "2024-04-15T00:00:00",
          "2024-04-16T00:00:00",
          "2024-04-18T00:00:00",
          "2024-04-19T00:00:00",
          "2024-04-22T00:00:00",
          "2024-04-23T00:00:00",
          "2024-04-24T00:00:00",
          "2024-04-25T00:00:00",
          "2024-04-26T00:00:00",
          "2024-04-29T00:00:00",
          "2024-04-30T00:00:00",
          "2024-05-02T00:00:00",
          "2024-05-03T00:00:00",
          "2024-05-06T00:00:00",
          "2024-05-07T00:00:00",
          "2024-05-08T00:00:00",
          "2024-05-09T00:00:00",
          "2024-05-10T00:00:00",
          "2024-05-13T00:00:00",
          "2024-05-14T00:00:00",
          "2024-05-15T00:00:00",
          "2024-05-16T00:00:00",
          "2024-05-17T00:00:00",
          "2024-05-21T00:00:00",
          "2024-05-22T00:00:00",
          "2024-05-23T00:00:00",
          "2024-05-24T00:00:00",
          "2024-05-27T00:00:00",
          "2024-05-28T00:00:00",
          "2024-05-29T00:00:00",
          "2024-05-30T00:00:00",
          "2024-05-31T00:00:00",
          "2024-06-03T00:00:00",
          "2024-06-04T00:00:00",
          "2024-06-05T00:00:00",
          "2024-06-06T00:00:00",
          "2024-06-07T00:00:00",
          "2024-06-10T00:00:00",
          "2024-06-11T00:00:00",
          "2024-06-12T00:00:00",
          "2024-06-13T00:00:00",
          "2024-06-14T00:00:00",
          "2024-06-18T00:00:00",
          "2024-06-19T00:00:00",
          "2024-06-20T00:00:00",
          "2024-06-21T00:00:00",
          "2024-06-24T00:00:00",
          "2024-06-25T00:00:00",
          "2024-06-26T00:00:00",
          "2024-06-27T00:00:00",
          "2024-06-28T00:00:00",
          "2024-07-01T00:00:00",
          "2024-07-02T00:00:00",
          "2024-07-03T00:00:00",
          "2024-07-04T00:00:00",
          "2024-07-05T00:00:00",
          "2024-07-08T00:00:00",
          "2024-07-09T00:00:00",
          "2024-07-10T00:00:00",
          "2024-07-11T00:00:00",
          "2024-07-12T00:00:00",
          "2024-07-15T00:00:00",
          "2024-07-16T00:00:00",
          "2024-07-18T00:00:00",
          "2024-07-19T00:00:00",
          "2024-07-22T00:00:00",
          "2024-07-23T00:00:00",
          "2024-07-24T00:00:00",
          "2024-07-25T00:00:00",
          "2024-07-26T00:00:00",
          "2024-07-29T00:00:00",
          "2024-07-30T00:00:00",
          "2024-07-31T00:00:00",
          "2024-08-01T00:00:00",
          "2024-08-02T00:00:00",
          "2024-08-05T00:00:00",
          "2024-08-06T00:00:00",
          "2024-08-07T00:00:00",
          "2024-08-08T00:00:00",
          "2024-08-09T00:00:00",
          "2024-08-12T00:00:00",
          "2024-08-13T00:00:00",
          "2024-08-14T00:00:00",
          "2024-08-16T00:00:00",
          "2024-08-19T00:00:00",
          "2024-08-20T00:00:00",
          "2024-08-21T00:00:00",
          "2024-08-22T00:00:00",
          "2024-08-23T00:00:00",
          "2024-08-26T00:00:00",
          "2024-08-27T00:00:00",
          "2024-08-28T00:00:00",
          "2024-08-29T00:00:00",
          "2024-08-30T00:00:00",
          "2024-09-02T00:00:00",
          "2024-09-03T00:00:00",
          "2024-09-04T00:00:00",
          "2024-09-05T00:00:00",
          "2024-09-06T00:00:00",
          "2024-09-09T00:00:00",
          "2024-09-10T00:00:00",
          "2024-09-11T00:00:00",
          "2024-09-12T00:00:00",
          "2024-09-13T00:00:00",
          "2024-09-16T00:00:00",
          "2024-09-17T00:00:00",
          "2024-09-18T00:00:00",
          "2024-09-19T00:00:00",
          "2024-09-20T00:00:00",
          "2024-09-23T00:00:00",
          "2024-09-24T00:00:00",
          "2024-09-25T00:00:00",
          "2024-09-26T00:00:00",
          "2024-09-27T00:00:00",
          "2024-09-30T00:00:00",
          "2024-10-01T00:00:00",
          "2024-10-03T00:00:00",
          "2024-10-04T00:00:00",
          "2024-10-07T00:00:00",
          "2024-10-08T00:00:00",
          "2024-10-09T00:00:00",
          "2024-10-10T00:00:00",
          "2024-10-11T00:00:00",
          "2024-10-14T00:00:00",
          "2024-10-15T00:00:00",
          "2024-10-16T00:00:00",
          "2024-10-17T00:00:00",
          "2024-10-18T00:00:00",
          "2024-10-21T00:00:00",
          "2024-10-22T00:00:00",
          "2024-10-23T00:00:00",
          "2024-10-24T00:00:00",
          "2024-10-25T00:00:00",
          "2024-10-28T00:00:00",
          "2024-10-29T00:00:00",
          "2024-10-30T00:00:00",
          "2024-10-31T00:00:00",
          "2024-11-01T00:00:00",
          "2024-11-04T00:00:00",
          "2024-11-05T00:00:00",
          "2024-11-06T00:00:00",
          "2024-11-07T00:00:00",
          "2024-11-08T00:00:00",
          "2024-11-11T00:00:00",
          "2024-11-12T00:00:00",
          "2024-11-13T00:00:00",
          "2024-11-14T00:00:00",
          "2024-11-18T00:00:00",
          "2024-11-19T00:00:00",
          "2024-11-21T00:00:00",
          "2024-11-22T00:00:00",
          "2024-11-25T00:00:00",
          "2024-11-26T00:00:00",
          "2024-11-27T00:00:00",
          "2024-11-28T00:00:00",
          "2024-11-29T00:00:00",
          "2024-12-02T00:00:00",
          "2024-12-03T00:00:00",
          "2024-12-04T00:00:00",
          "2024-12-05T00:00:00",
          "2024-12-06T00:00:00",
          "2024-12-09T00:00:00",
          "2024-12-10T00:00:00",
          "2024-12-11T00:00:00",
          "2024-12-12T00:00:00",
          "2024-12-13T00:00:00",
          "2024-12-16T00:00:00",
          "2024-12-17T00:00:00",
          "2024-12-18T00:00:00",
          "2024-12-19T00:00:00",
          "2024-12-20T00:00:00",
          "2024-12-23T00:00:00",
          "2024-12-24T00:00:00",
          "2024-12-26T00:00:00",
          "2024-12-27T00:00:00",
          "2024-12-30T00:00:00",
          "2024-12-31T00:00:00",
          "2025-01-01T00:00:00",
          "2025-01-02T00:00:00",
          "2025-01-03T00:00:00",
          "2025-01-06T00:00:00",
          "2025-01-07T00:00:00",
          "2025-01-08T00:00:00",
          "2025-01-09T00:00:00",
          "2025-01-10T00:00:00",
          "2025-01-13T00:00:00",
          "2025-01-14T00:00:00",
          "2025-01-15T00:00:00",
          "2025-01-16T00:00:00",
          "2025-01-17T00:00:00",
          "2025-01-20T00:00:00",
          "2025-01-21T00:00:00",
          "2025-01-22T00:00:00",
          "2025-01-23T00:00:00",
          "2025-01-24T00:00:00",
          "2025-01-27T00:00:00",
          "2025-01-28T00:00:00",
          "2025-01-29T00:00:00",
          "2025-01-30T00:00:00",
          "2025-01-31T00:00:00",
          "2025-02-01T00:00:00",
          "2025-02-03T00:00:00",
          "2025-02-04T00:00:00",
          "2025-02-05T00:00:00",
          "2025-02-06T00:00:00",
          "2025-02-07T00:00:00",
          "2025-02-10T00:00:00",
          "2025-02-11T00:00:00",
          "2025-02-12T00:00:00",
          "2025-02-13T00:00:00",
          "2025-02-14T00:00:00",
          "2025-02-17T00:00:00",
          "2025-02-18T00:00:00",
          "2025-02-19T00:00:00",
          "2025-02-20T00:00:00",
          "2025-02-21T00:00:00",
          "2025-02-24T00:00:00",
          "2025-02-25T00:00:00",
          "2025-02-27T00:00:00",
          "2025-02-28T00:00:00"
         ],
         "xaxis": "x",
         "y": [
          1176.415771484375,
          1167.806884765625,
          1150.223876953125,
          1148.168701171875,
          1158.604248046875,
          1185.9605712890625,
          1168.42333984375,
          1153.6949462890625,
          1128.7816162109375,
          1126.955078125,
          1116.2225341796875,
          1132.070068359375,
          1130.197509765625,
          1128.9874267578125,
          1115.560302734375,
          1109.9200439453125,
          1103.366455078125,
          1088.112548828125,
          1067.4697265625,
          1077.6998291015625,
          1075.0052490234375,
          1068.6343994140625,
          1062.719970703125,
          1063.65625,
          1055.64111328125,
          1053.1064453125,
          1074.137451171875,
          1076.010009765625,
          1067.1500244140625,
          1061.075927734375,
          1086.080322265625,
          1110.6734619140625,
          1109.805908203125,
          1114.4412841796875,
          1102.6585693359375,
          1111.655517578125,
          1086.445556640625,
          1081.2392578125,
          1088.6376953125,
          1081.3990478515625,
          1060.71044921875,
          1070.4610595703125,
          1062.3089599609375,
          1089.4141845703125,
          1100.0552978515625,
          1104.0057373046875,
          1077.471435546875,
          1060.779052734375,
          1043.3330078125,
          1039.42822265625,
          1021.66259765625,
          1016.5703735351562,
          1015.2916259765625,
          1005.3126831054688,
          1036.5738525390625,
          1039.72509765625,
          1026.5721435546875,
          1006.2489624023438,
          1021.890869140625,
          1026.66357421875,
          1020.5894165039062,
          1064.592529296875,
          1064.775146484375,
          1062.2176513671875,
          1069.3421630859375,
          1061.7608642578125,
          1067.012939453125,
          1071.717041015625,
          1075.7587890625,
          1081.21630859375,
          1068.83984375,
          1074.160400390625,
          1071.4429931640625,
          1072.790283203125,
          1076.900634765625,
          1085.1439208984375,
          1078.7730712890625,
          1085.6005859375,
          1105.4443359375,
          1114.82958984375,
          1105.26171875,
          1118.0035400390625,
          1115.149169921875,
          1128.9189453125,
          1132.41259765625,
          1140.1993408203125,
          1132.755126953125,
          1134.6046142578125,
          1136.842529296875,
          1120.652587890625,
          1114.0302734375,
          1111.6328125,
          1115.2406005859375,
          1121.2005615234375,
          1120.9949951171875,
          1114.464111328125,
          1114.3271484375,
          1144.720703125,
          1151.16015625,
          1150.86328125,
          1128.00537109375,
          1124.96826171875,
          1121.2918701171875,
          1131.3621826171875,
          1132.3211669921875,
          1140.9072265625,
          1141.5921630859375,
          1133.5086669921875,
          1134.513427734375,
          1151.2742919921875,
          1165.4320068359375,
          1165.751708984375,
          1177.1007080078125,
          1165.4091796875,
          1167.8297119140625,
          1171.1180419921875,
          1157.9649658203125,
          1148.488525390625,
          1139.7197265625,
          1140.130859375,
          1155.224853515625,
          1164.7012939453125,
          1194.5924072265625,
          1182.2843017578125,
          1180.3433837890625,
          1205.119384765625,
          1202.767333984375,
          1249.0994873046875,
          1262.6407470703125,
          1264.03369140625,
          1252.7303466796875,
          1251.679931640625,
          1277.2552490234375,
          1288.101806640625,
          1297.875244140625,
          1296.3035888671875,
          1256.175048828125,
          1230.76708984375,
          1229.9754638671875,
          1249.96533203125,
          1238.3375244140625,
          1250.7818603515625,
          1261.37060546875,
          1243.532958984375,
          1230.24755859375,
          1225.076904296875,
          1241.72705078125,
          1248.802734375,
          1241.281494140625,
          1249.4705810546875,
          1255.0369873046875,
          1260.3314208984375,
          1275.2249755859375,
          1274.185791015625,
          1255.8040771484375,
          1265.1063232421875,
          1255.738037109375,
          1255.43896484375,
          1256.8343505859375,
          1235.7060546875,
          1230.00048828125,
          1217.741943359375,
          1206.0816650390625,
          1204.935546875,
          1199.42919921875,
          1202.2445068359375,
          1201.2728271484375,
          1207.701171875,
          1210.242431640625,
          1211.8868408203125,
          1219.95947265625,
          1233.1148681640625,
          1215.30029296875,
          1221.379638671875,
          1222.5008544921875,
          1224.7681884765625,
          1214.1043701171875,
          1187.046142578125,
          1178.4005126953125,
          1173.4921875,
          1166.2667236328125,
          1167.2882080078125,
          1180.443603515625,
          1163.1025390625,
          1168.5340576171875,
          1155.1544189453125,
          1153.1611328125,
          1153.1363525390625,
          1155.0797119140625,
          1145.238037109375,
          1150.2958984375,
          1168.5589599609375,
          1170.7265625,
          1170.6767578125,
          1168.0606689453125,
          1173.6417236328125,
          1158.069580078125,
          1149.1746826171875,
          1145.6617431640625,
          1127.7723388671875,
          1125.15625,
          1109.484375,
          1129.0679931640625,
          1152.3389892578125,
          1140.08056640625,
          1144.814453125,
          1156.1759033203125,
          1155.9267578125,
          1165.544189453125,
          1157.9698486328125,
          1163.9993896484375,
          1151.3673095703125,
          1153.534912109375,
          1153.385498046875,
          1174.2396240234375,
          1176.357421875,
          1173.7911376953125,
          1170.70166015625,
          1185.4266357421875,
          1190.0609130859375,
          1193.6986083984375,
          1192.9012451171875,
          1193.150390625,
          1196.289794921875,
          1184.7041015625,
          1193.1007080078125,
          1206.0068359375,
          1214.752197265625,
          1226.3876953125,
          1224.3695068359375,
          1223.7216796875,
          1225.515625,
          1207.92529296875,
          1212.8585205078125,
          1227.907470703125,
          1243.579345703125,
          1256.236328125,
          1274.7236328125,
          1259.3009033203125,
          1276.941162109375,
          1278.1868896484375,
          1284.6649169921875,
          1289.050048828125,
          1298.368408203125,
          1288.1031494140625,
          1290.7442626953125,
          1301.4329833984375,
          1287.281005859375,
          1293.933349609375,
          1299.439697265625,
          1289.2991943359375,
          1285.8857421875,
          1320.568115234375,
          1355.3001708984375,
          1366.0885009765625,
          1389.409423828125,
          1369.975341796875,
          1356.9693603515625,
          1363.3228759765625,
          1362.8245849609375,
          1324.0810546875,
          1339.329345703125,
          1348.4981689453125,
          1443.1519775390625,
          1402.8636474609375,
          1421.7994384765625,
          1421.8243408203125,
          1452.769287109375,
          1434.157470703125,
          1422.970458984375,
          1437.27197265625,
          1445.219970703125,
          1455.8089599609375,
          1447.4373779296875,
          1460.144287109375,
          1476.3642578125,
          1465.6256103515625,
          1455.634521484375,
          1469.01416015625,
          1466.04931640625,
          1462.7354736328125,
          1476.7379150390625,
          1488.57275390625,
          1482.2940673828125,
          1480.624755859375,
          1450.7012939453125,
          1455.85888671875,
          1487.077880859375,
          1502.30126953125,
          1495.12548828125,
          1497.9161376953125,
          1473.922607421875,
          1461.63916015625,
          1470.4344482421875,
          1427.3306884765625,
          1426.633056640625,
          1413.4278564453125,
          1434.60595703125,
          1420.4290771484375,
          1438.866455078125,
          1446.0670166015625,
          1450.1033935546875,
          1436.6988525390625,
          1487.8004150390625,
          1480.8240966796875,
          1479.7528076171875,
          1481.9202880859375,
          1466.622314453125,
          1457.9766845703125,
          1455.1611328125,
          1480.9486083984375,
          1458.69921875,
          1474.5703125,
          1462.1873779296875,
          1459.8701171875,
          1460.7921142578125,
          1459.371826171875,
          1465.15234375,
          1474.8443603515625,
          1454.3887939453125,
          1445.269775390625,
          1455.03662109375,
          1447.6368408203125,
          1460.069580078125,
          1462.037841796875,
          1461.5894775390625,
          1429.1495361328125,
          1414.7235107421875,
          1396.7344970703125,
          1413.7518310546875,
          1389.409423828125,
          1402.6644287109375,
          1397.955322265625,
          1415.271484375,
          1411.4844970703125,
          1420.5286865234375,
          1430.84375,
          1431.267333984375,
          1455.7093505859375,
          1481.0234375,
          1475.2430419921875,
          1461.2904052734375,
          1451.2742919921875,
          1435.901611328125,
          1420.0303955078125,
          1425.5616455078125,
          1505.21630859375,
          1392.5487060546875,
          1415.9443359375,
          1426.757568359375,
          1464.977783203125,
          1466.4229736328125,
          1451.747802734375,
          1458.375244140625,
          1460.2938232421875,
          1472.55224609375,
          1476.0155029296875,
          1453.7161865234375,
          1468.7152099609375,
          1449.2811279296875,
          1436.59912109375,
          1449.2313232421875,
          1508.90380859375,
          1525.3729248046875,
          1560.1051025390625,
          1554.872802734375,
          1559.880859375,
          1547.1739501953125,
          1548.7685546875,
          1583.25146484375,
          1595.4849853515625,
          1584.8958740234375,
          1578.8663330078125,
          1575.303466796875,
          1591.3240966796875,
          1591.8223876953125,
          1570.9183349609375,
          1581.30810546875,
          1549.8897705078125,
          1495.5989990234375,
          1482.8671875,
          1490.6407470703125,
          1487.3519287109375,
          1503.9207763671875,
          1514.958251953125,
          1508.03173828125,
          1500.3328857421875,
          1510.174560546875,
          1494.25341796875,
          1442.4293212890625,
          1451.125,
          1459.8701171875,
          1444.223388671875,
          1469.313232421875,
          1455.6844482421875,
          1458.67431640625,
          1456.9052734375,
          1473.199951171875,
          1488.4000244140625,
          1495.949951171875,
          1498.675048828125,
          1498.125,
          1499.9749755859375,
          1512.5999755859375,
          1500.449951171875,
          1498.300048828125,
          1520.925048828125,
          1509.625,
          1516.25,
          1509.125,
          1514.550048828125,
          1492.9749755859375,
          1464.824951171875,
          1462.449951171875,
          1461.5250244140625,
          1451.5,
          1479.800048828125,
          1472.625,
          1471.3499755859375,
          1472.300048828125,
          1463.449951171875,
          1469.675048828125,
          1485.925048828125,
          1493.375,
          1489.375,
          1493.949951171875,
          1497.949951171875,
          1526.175048828125,
          1476.574951171875,
          1464.824951171875,
          1406.9749755859375,
          1386.5250244140625,
          1370.7249755859375,
          1397.3499755859375,
          1374.5999755859375,
          1371.050048828125,
          1372.0999755859375,
          1372.5250244140625,
          1344.0250244140625,
          1354.074951171875,
          1356.425048828125,
          1359.300048828125,
          1369.199951171875,
          1343.3499755859375,
          1338.5250244140625,
          1339.800048828125,
          1327.8499755859375,
          1334.3499755859375,
          1340,
          1343.9000244140625,
          1332.050048828125,
          1338.6500244140625,
          1302.1500244140625,
          1305.300048828125,
          1325.3499755859375,
          1305.6500244140625,
          1283.75,
          1272.699951171875,
          1274.25,
          1252.050048828125,
          1267.5999755859375,
          1260.75,
          1241.6500244140625,
          1223,
          1265.4000244140625,
          1287,
          1295.699951171875,
          1293.199951171875,
          1270.800048828125,
          1292.199951171875,
          1309.1500244140625,
          1323.300048828125,
          1308.949951171875,
          1322.050048828125,
          1311.550048828125,
          1295.1500244140625,
          1284.8499755859375,
          1278.199951171875,
          1262.9000244140625,
          1272.8499755859375,
          1268.300048828125,
          1245.300048828125,
          1253.25,
          1230.449951171875,
          1205.300048828125,
          1222.300048828125,
          1222.75,
          1216.550048828125,
          1221.050048828125,
          1210.699951171875,
          1215.449951171875,
          1221.25,
          1241.800048828125,
          1251.1500244140625,
          1218,
          1240.8499755859375,
          1265.5,
          1254.75,
          1241.9000244140625,
          1239.8499755859375,
          1238.75,
          1252.199951171875,
          1266.449951171875,
          1302.3499755859375,
          1305.449951171875,
          1273.699951171875,
          1277.0999755859375,
          1263.6500244140625,
          1246.300048828125,
          1229.3499755859375,
          1234.4000244140625,
          1235.5,
          1253.050048828125,
          1265.0999755859375,
          1264.5999755859375,
          1245.9000244140625,
          1285.199951171875,
          1278.199951171875,
          1281.550048828125,
          1266.699951171875,
          1253.6500244140625,
          1234.8499755859375,
          1216.550048828125,
          1216.0999755859375,
          1217.25,
          1224.9000244140625,
          1225.4000244140625,
          1227.449951171875,
          1233,
          1228.1500244140625,
          1214.550048828125,
          1204,
          1207.0999755859375,
          1200.0999755859375
         ],
         "yaxis": "y"
        }
       ],
       "layout": {
        "legend": {
         "tracegroupgap": 0
        },
        "template": {
         "data": {
          "bar": [
           {
            "error_x": {
             "color": "#2a3f5f"
            },
            "error_y": {
             "color": "#2a3f5f"
            },
            "marker": {
             "line": {
              "color": "#E5ECF6",
              "width": 0.5
             },
             "pattern": {
              "fillmode": "overlay",
              "size": 10,
              "solidity": 0.2
             }
            },
            "type": "bar"
           }
          ],
          "barpolar": [
           {
            "marker": {
             "line": {
              "color": "#E5ECF6",
              "width": 0.5
             },
             "pattern": {
              "fillmode": "overlay",
              "size": 10,
              "solidity": 0.2
             }
            },
            "type": "barpolar"
           }
          ],
          "carpet": [
           {
            "aaxis": {
             "endlinecolor": "#2a3f5f",
             "gridcolor": "white",
             "linecolor": "white",
             "minorgridcolor": "white",
             "startlinecolor": "#2a3f5f"
            },
            "baxis": {
             "endlinecolor": "#2a3f5f",
             "gridcolor": "white",
             "linecolor": "white",
             "minorgridcolor": "white",
             "startlinecolor": "#2a3f5f"
            },
            "type": "carpet"
           }
          ],
          "choropleth": [
           {
            "colorbar": {
             "outlinewidth": 0,
             "ticks": ""
            },
            "type": "choropleth"
           }
          ],
          "contour": [
           {
            "colorbar": {
             "outlinewidth": 0,
             "ticks": ""
            },
            "colorscale": [
             [
              0,
              "#0d0887"
             ],
             [
              0.1111111111111111,
              "#46039f"
             ],
             [
              0.2222222222222222,
              "#7201a8"
             ],
             [
              0.3333333333333333,
              "#9c179e"
             ],
             [
              0.4444444444444444,
              "#bd3786"
             ],
             [
              0.5555555555555556,
              "#d8576b"
             ],
             [
              0.6666666666666666,
              "#ed7953"
             ],
             [
              0.7777777777777778,
              "#fb9f3a"
             ],
             [
              0.8888888888888888,
              "#fdca26"
             ],
             [
              1,
              "#f0f921"
             ]
            ],
            "type": "contour"
           }
          ],
          "contourcarpet": [
           {
            "colorbar": {
             "outlinewidth": 0,
             "ticks": ""
            },
            "type": "contourcarpet"
           }
          ],
          "heatmap": [
           {
            "colorbar": {
             "outlinewidth": 0,
             "ticks": ""
            },
            "colorscale": [
             [
              0,
              "#0d0887"
             ],
             [
              0.1111111111111111,
              "#46039f"
             ],
             [
              0.2222222222222222,
              "#7201a8"
             ],
             [
              0.3333333333333333,
              "#9c179e"
             ],
             [
              0.4444444444444444,
              "#bd3786"
             ],
             [
              0.5555555555555556,
              "#d8576b"
             ],
             [
              0.6666666666666666,
              "#ed7953"
             ],
             [
              0.7777777777777778,
              "#fb9f3a"
             ],
             [
              0.8888888888888888,
              "#fdca26"
             ],
             [
              1,
              "#f0f921"
             ]
            ],
            "type": "heatmap"
           }
          ],
          "heatmapgl": [
           {
            "colorbar": {
             "outlinewidth": 0,
             "ticks": ""
            },
            "colorscale": [
             [
              0,
              "#0d0887"
             ],
             [
              0.1111111111111111,
              "#46039f"
             ],
             [
              0.2222222222222222,
              "#7201a8"
             ],
             [
              0.3333333333333333,
              "#9c179e"
             ],
             [
              0.4444444444444444,
              "#bd3786"
             ],
             [
              0.5555555555555556,
              "#d8576b"
             ],
             [
              0.6666666666666666,
              "#ed7953"
             ],
             [
              0.7777777777777778,
              "#fb9f3a"
             ],
             [
              0.8888888888888888,
              "#fdca26"
             ],
             [
              1,
              "#f0f921"
             ]
            ],
            "type": "heatmapgl"
           }
          ],
          "histogram": [
           {
            "marker": {
             "pattern": {
              "fillmode": "overlay",
              "size": 10,
              "solidity": 0.2
             }
            },
            "type": "histogram"
           }
          ],
          "histogram2d": [
           {
            "colorbar": {
             "outlinewidth": 0,
             "ticks": ""
            },
            "colorscale": [
             [
              0,
              "#0d0887"
             ],
             [
              0.1111111111111111,
              "#46039f"
             ],
             [
              0.2222222222222222,
              "#7201a8"
             ],
             [
              0.3333333333333333,
              "#9c179e"
             ],
             [
              0.4444444444444444,
              "#bd3786"
             ],
             [
              0.5555555555555556,
              "#d8576b"
             ],
             [
              0.6666666666666666,
              "#ed7953"
             ],
             [
              0.7777777777777778,
              "#fb9f3a"
             ],
             [
              0.8888888888888888,
              "#fdca26"
             ],
             [
              1,
              "#f0f921"
             ]
            ],
            "type": "histogram2d"
           }
          ],
          "histogram2dcontour": [
           {
            "colorbar": {
             "outlinewidth": 0,
             "ticks": ""
            },
            "colorscale": [
             [
              0,
              "#0d0887"
             ],
             [
              0.1111111111111111,
              "#46039f"
             ],
             [
              0.2222222222222222,
              "#7201a8"
             ],
             [
              0.3333333333333333,
              "#9c179e"
             ],
             [
              0.4444444444444444,
              "#bd3786"
             ],
             [
              0.5555555555555556,
              "#d8576b"
             ],
             [
              0.6666666666666666,
              "#ed7953"
             ],
             [
              0.7777777777777778,
              "#fb9f3a"
             ],
             [
              0.8888888888888888,
              "#fdca26"
             ],
             [
              1,
              "#f0f921"
             ]
            ],
            "type": "histogram2dcontour"
           }
          ],
          "mesh3d": [
           {
            "colorbar": {
             "outlinewidth": 0,
             "ticks": ""
            },
            "type": "mesh3d"
           }
          ],
          "parcoords": [
           {
            "line": {
             "colorbar": {
              "outlinewidth": 0,
              "ticks": ""
             }
            },
            "type": "parcoords"
           }
          ],
          "pie": [
           {
            "automargin": true,
            "type": "pie"
           }
          ],
          "scatter": [
           {
            "fillpattern": {
             "fillmode": "overlay",
             "size": 10,
             "solidity": 0.2
            },
            "type": "scatter"
           }
          ],
          "scatter3d": [
           {
            "line": {
             "colorbar": {
              "outlinewidth": 0,
              "ticks": ""
             }
            },
            "marker": {
             "colorbar": {
              "outlinewidth": 0,
              "ticks": ""
             }
            },
            "type": "scatter3d"
           }
          ],
          "scattercarpet": [
           {
            "marker": {
             "colorbar": {
              "outlinewidth": 0,
              "ticks": ""
             }
            },
            "type": "scattercarpet"
           }
          ],
          "scattergeo": [
           {
            "marker": {
             "colorbar": {
              "outlinewidth": 0,
              "ticks": ""
             }
            },
            "type": "scattergeo"
           }
          ],
          "scattergl": [
           {
            "marker": {
             "colorbar": {
              "outlinewidth": 0,
              "ticks": ""
             }
            },
            "type": "scattergl"
           }
          ],
          "scattermapbox": [
           {
            "marker": {
             "colorbar": {
              "outlinewidth": 0,
              "ticks": ""
             }
            },
            "type": "scattermapbox"
           }
          ],
          "scatterpolar": [
           {
            "marker": {
             "colorbar": {
              "outlinewidth": 0,
              "ticks": ""
             }
            },
            "type": "scatterpolar"
           }
          ],
          "scatterpolargl": [
           {
            "marker": {
             "colorbar": {
              "outlinewidth": 0,
              "ticks": ""
             }
            },
            "type": "scatterpolargl"
           }
          ],
          "scatterternary": [
           {
            "marker": {
             "colorbar": {
              "outlinewidth": 0,
              "ticks": ""
             }
            },
            "type": "scatterternary"
           }
          ],
          "surface": [
           {
            "colorbar": {
             "outlinewidth": 0,
             "ticks": ""
            },
            "colorscale": [
             [
              0,
              "#0d0887"
             ],
             [
              0.1111111111111111,
              "#46039f"
             ],
             [
              0.2222222222222222,
              "#7201a8"
             ],
             [
              0.3333333333333333,
              "#9c179e"
             ],
             [
              0.4444444444444444,
              "#bd3786"
             ],
             [
              0.5555555555555556,
              "#d8576b"
             ],
             [
              0.6666666666666666,
              "#ed7953"
             ],
             [
              0.7777777777777778,
              "#fb9f3a"
             ],
             [
              0.8888888888888888,
              "#fdca26"
             ],
             [
              1,
              "#f0f921"
             ]
            ],
            "type": "surface"
           }
          ],
          "table": [
           {
            "cells": {
             "fill": {
              "color": "#EBF0F8"
             },
             "line": {
              "color": "white"
             }
            },
            "header": {
             "fill": {
              "color": "#C8D4E3"
             },
             "line": {
              "color": "white"
             }
            },
            "type": "table"
           }
          ]
         },
         "layout": {
          "annotationdefaults": {
           "arrowcolor": "#2a3f5f",
           "arrowhead": 0,
           "arrowwidth": 1
          },
          "autotypenumbers": "strict",
          "coloraxis": {
           "colorbar": {
            "outlinewidth": 0,
            "ticks": ""
           }
          },
          "colorscale": {
           "diverging": [
            [
             0,
             "#8e0152"
            ],
            [
             0.1,
             "#c51b7d"
            ],
            [
             0.2,
             "#de77ae"
            ],
            [
             0.3,
             "#f1b6da"
            ],
            [
             0.4,
             "#fde0ef"
            ],
            [
             0.5,
             "#f7f7f7"
            ],
            [
             0.6,
             "#e6f5d0"
            ],
            [
             0.7,
             "#b8e186"
            ],
            [
             0.8,
             "#7fbc41"
            ],
            [
             0.9,
             "#4d9221"
            ],
            [
             1,
             "#276419"
            ]
           ],
           "sequential": [
            [
             0,
             "#0d0887"
            ],
            [
             0.1111111111111111,
             "#46039f"
            ],
            [
             0.2222222222222222,
             "#7201a8"
            ],
            [
             0.3333333333333333,
             "#9c179e"
            ],
            [
             0.4444444444444444,
             "#bd3786"
            ],
            [
             0.5555555555555556,
             "#d8576b"
            ],
            [
             0.6666666666666666,
             "#ed7953"
            ],
            [
             0.7777777777777778,
             "#fb9f3a"
            ],
            [
             0.8888888888888888,
             "#fdca26"
            ],
            [
             1,
             "#f0f921"
            ]
           ],
           "sequentialminus": [
            [
             0,
             "#0d0887"
            ],
            [
             0.1111111111111111,
             "#46039f"
            ],
            [
             0.2222222222222222,
             "#7201a8"
            ],
            [
             0.3333333333333333,
             "#9c179e"
            ],
            [
             0.4444444444444444,
             "#bd3786"
            ],
            [
             0.5555555555555556,
             "#d8576b"
            ],
            [
             0.6666666666666666,
             "#ed7953"
            ],
            [
             0.7777777777777778,
             "#fb9f3a"
            ],
            [
             0.8888888888888888,
             "#fdca26"
            ],
            [
             1,
             "#f0f921"
            ]
           ]
          },
          "colorway": [
           "#636efa",
           "#EF553B",
           "#00cc96",
           "#ab63fa",
           "#FFA15A",
           "#19d3f3",
           "#FF6692",
           "#B6E880",
           "#FF97FF",
           "#FECB52"
          ],
          "font": {
           "color": "#2a3f5f"
          },
          "geo": {
           "bgcolor": "white",
           "lakecolor": "white",
           "landcolor": "#E5ECF6",
           "showlakes": true,
           "showland": true,
           "subunitcolor": "white"
          },
          "hoverlabel": {
           "align": "left"
          },
          "hovermode": "closest",
          "mapbox": {
           "style": "light"
          },
          "paper_bgcolor": "white",
          "plot_bgcolor": "#E5ECF6",
          "polar": {
           "angularaxis": {
            "gridcolor": "white",
            "linecolor": "white",
            "ticks": ""
           },
           "bgcolor": "#E5ECF6",
           "radialaxis": {
            "gridcolor": "white",
            "linecolor": "white",
            "ticks": ""
           }
          },
          "scene": {
           "xaxis": {
            "backgroundcolor": "#E5ECF6",
            "gridcolor": "white",
            "gridwidth": 2,
            "linecolor": "white",
            "showbackground": true,
            "ticks": "",
            "zerolinecolor": "white"
           },
           "yaxis": {
            "backgroundcolor": "#E5ECF6",
            "gridcolor": "white",
            "gridwidth": 2,
            "linecolor": "white",
            "showbackground": true,
            "ticks": "",
            "zerolinecolor": "white"
           },
           "zaxis": {
            "backgroundcolor": "#E5ECF6",
            "gridcolor": "white",
            "gridwidth": 2,
            "linecolor": "white",
            "showbackground": true,
            "ticks": "",
            "zerolinecolor": "white"
           }
          },
          "shapedefaults": {
           "line": {
            "color": "#2a3f5f"
           }
          },
          "ternary": {
           "aaxis": {
            "gridcolor": "white",
            "linecolor": "white",
            "ticks": ""
           },
           "baxis": {
            "gridcolor": "white",
            "linecolor": "white",
            "ticks": ""
           },
           "bgcolor": "#E5ECF6",
           "caxis": {
            "gridcolor": "white",
            "linecolor": "white",
            "ticks": ""
           }
          },
          "title": {
           "x": 0.05
          },
          "xaxis": {
           "automargin": true,
           "gridcolor": "white",
           "linecolor": "white",
           "ticks": "",
           "title": {
            "standoff": 15
           },
           "zerolinecolor": "white",
           "zerolinewidth": 2
          },
          "yaxis": {
           "automargin": true,
           "gridcolor": "white",
           "linecolor": "white",
           "ticks": "",
           "title": {
            "standoff": 15
           },
           "zerolinecolor": "white",
           "zerolinewidth": 2
          }
         }
        },
        "title": {
         "text": "Reliance Stock Price Over Time"
        },
        "xaxis": {
         "anchor": "y",
         "domain": [
          0,
          1
         ],
         "title": {
          "text": "Date"
         }
        },
        "yaxis": {
         "anchor": "x",
         "domain": [
          0,
          1
         ],
         "title": {
          "text": "RELIANCE.NS_RELIANCE.NS"
         }
        }
       }
      }
     },
     "metadata": {},
     "output_type": "display_data"
    }
   ],
   "source": [
    "# Identify the correct stock price column dynamically\n",
    "reliance_col = [col for col in data.columns if 'RELIANCE' in col and 'NS' in col][0]\n",
    "\n",
    "# Interactive Stock Price Visualization\n",
    "fig = px.line(data, x=data.index, y=reliance_col, title='Reliance Stock Price Over Time')\n",
    "fig.show()\n"
   ]
  },
  {
   "cell_type": "code",
   "execution_count": null,
   "metadata": {},
   "outputs": [],
   "source": []
  }
 ],
 "metadata": {
  "kernelspec": {
   "display_name": "base",
   "language": "python",
   "name": "python3"
  },
  "language_info": {
   "codemirror_mode": {
    "name": "ipython",
    "version": 3
   },
   "file_extension": ".py",
   "mimetype": "text/x-python",
   "name": "python",
   "nbconvert_exporter": "python",
   "pygments_lexer": "ipython3",
   "version": "3.12.7"
  }
 },
 "nbformat": 4,
 "nbformat_minor": 2
}
